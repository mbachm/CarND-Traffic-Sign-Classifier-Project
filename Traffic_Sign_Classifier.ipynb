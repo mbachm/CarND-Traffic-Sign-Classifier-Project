{
 "cells": [
  {
   "cell_type": "markdown",
   "metadata": {
    "deletable": true,
    "editable": true
   },
   "source": [
    "# Self-Driving Car Engineer Nanodegree\n",
    "\n",
    "## Deep Learning\n",
    "\n",
    "## Project: Build a Traffic Sign Recognition Classifier\n",
    "\n",
    "In this notebook, a template is provided for you to implement your functionality in stages, which is required to successfully complete this project. If additional code is required that cannot be included in the notebook, be sure that the Python code is successfully imported and included in your submission if necessary. \n",
    "\n",
    "> **Note**: Once you have completed all of the code implementations, you need to finalize your work by exporting the iPython Notebook as an HTML document. Before exporting the notebook to html, all of the code cells need to have been run so that reviewers can see the final implementation and output. You can then export the notebook by using the menu above and navigating to  \\n\",\n",
    "    \"**File -> Download as -> HTML (.html)**. Include the finished document along with this notebook as your submission. \n",
    "\n",
    "In addition to implementing code, there is a writeup to complete. The writeup should be completed in a separate file, which can be either a markdown file or a pdf document. There is a [write up template](https://github.com/udacity/CarND-Traffic-Sign-Classifier-Project/blob/master/writeup_template.md) that can be used to guide the writing process. Completing the code template and writeup template will cover all of the [rubric points](https://review.udacity.com/#!/rubrics/481/view) for this project.\n",
    "\n",
    "The [rubric](https://review.udacity.com/#!/rubrics/481/view) contains \"Stand Out Suggestions\" for enhancing the project beyond the minimum requirements. The stand out suggestions are optional. If you decide to pursue the \"stand out suggestions\", you can include the code in this Ipython notebook and also discuss the results in the writeup file.\n",
    "\n",
    "\n",
    ">**Note:** Code and Markdown cells can be executed using the **Shift + Enter** keyboard shortcut. In addition, Markdown cells can be edited by typically double-clicking the cell to enter edit mode."
   ]
  },
  {
   "cell_type": "markdown",
   "metadata": {
    "deletable": true,
    "editable": true
   },
   "source": [
    "---\n",
    "## Step 0: Load The Data"
   ]
  },
  {
   "cell_type": "code",
   "execution_count": 24,
   "metadata": {
    "collapsed": false,
    "deletable": true,
    "editable": true
   },
   "outputs": [],
   "source": [
    "# Load pickled data\n",
    "import pickle\n",
    "\n",
    "training_file = 'train.p'\n",
    "validation_file = 'valid.p'\n",
    "testing_file = 'test.p'\n",
    "\n",
    "with open(training_file, mode='rb') as f:\n",
    "    train = pickle.load(f)\n",
    "with open(validation_file, mode='rb') as f:\n",
    "    valid = pickle.load(f)\n",
    "with open(testing_file, mode='rb') as f:\n",
    "    test = pickle.load(f)\n",
    "    \n",
    "X_train, y_train = train['features'], train['labels']\n",
    "X_valid, y_valid = valid['features'], valid['labels']\n",
    "X_test, y_test = test['features'], test['labels']"
   ]
  },
  {
   "cell_type": "markdown",
   "metadata": {
    "deletable": true,
    "editable": true
   },
   "source": [
    "---\n",
    "\n",
    "## Step 1: Dataset Summary & Exploration\n",
    "\n",
    "The pickled data is a dictionary with 4 key/value pairs:\n",
    "\n",
    "- `'features'` is a 4D array containing raw pixel data of the traffic sign images, (num examples, width, height, channels).\n",
    "- `'labels'` is a 1D array containing the label/class id of the traffic sign. The file `signnames.csv` contains id -> name mappings for each id.\n",
    "- `'sizes'` is a list containing tuples, (width, height) representing the original width and height the image.\n",
    "- `'coords'` is a list containing tuples, (x1, y1, x2, y2) representing coordinates of a bounding box around the sign in the image. **THESE COORDINATES ASSUME THE ORIGINAL IMAGE. THE PICKLED DATA CONTAINS RESIZED VERSIONS (32 by 32) OF THESE IMAGES**\n",
    "\n",
    "Complete the basic data summary below. Use python, numpy and/or pandas methods to calculate the data summary rather than hard coding the results. For example, the [pandas shape method](http://pandas.pydata.org/pandas-docs/stable/generated/pandas.DataFrame.shape.html) might be useful for calculating some of the summary results. "
   ]
  },
  {
   "cell_type": "markdown",
   "metadata": {
    "deletable": true,
    "editable": true
   },
   "source": [
    "### Provide a Basic Summary of the Data Set Using Python, Numpy and/or Pandas"
   ]
  },
  {
   "cell_type": "code",
   "execution_count": 25,
   "metadata": {
    "collapsed": false,
    "deletable": true,
    "editable": true
   },
   "outputs": [
    {
     "name": "stdout",
     "output_type": "stream",
     "text": [
      "Number of training examples: 34799\n",
      "Number of validation examples: 4410\n",
      "Number of testing examples: 12630\n",
      "Shape of the images in the set: (32, 32, 3)\n",
      "Number of classes: 43\n"
     ]
    }
   ],
   "source": [
    "### Replace each question mark with the appropriate value. \n",
    "### Use python, pandas or numpy methods rather than hard coding the results\n",
    "\n",
    "# Number of training examples\n",
    "n_train = len(X_train)\n",
    "\n",
    "# Number of validation examples\n",
    "n_valid = len(X_valid)\n",
    "\n",
    "# Number of testing examples.\n",
    "n_test = len(X_test)\n",
    "\n",
    "# What's the shape of an traffic sign image?\n",
    "image_shape = X_train[0].shape\n",
    "\n",
    "# How many unique classes/labels there are in the dataset.\n",
    "# Number of classes = max + 1 as the set starts with 0\n",
    "n_classes = max(y_train) + 1\n",
    "\n",
    "print(\"Number of training examples:\", n_train)\n",
    "print(\"Number of validation examples:\", n_valid)\n",
    "print(\"Number of testing examples:\", n_test)\n",
    "print(\"Shape of the images in the set:\", image_shape)\n",
    "print(\"Number of classes:\", n_classes)"
   ]
  },
  {
   "cell_type": "markdown",
   "metadata": {
    "deletable": true,
    "editable": true
   },
   "source": [
    "### Include an exploratory visualization of the dataset"
   ]
  },
  {
   "cell_type": "markdown",
   "metadata": {
    "deletable": true,
    "editable": true
   },
   "source": [
    "Visualize the German Traffic Signs Dataset using the pickled file(s). This is open ended, suggestions include: plotting traffic sign images, plotting the count of each sign, etc.\n",
    "\n",
    "The [Matplotlib](http://matplotlib.org/) [examples](http://matplotlib.org/examples/index.html) and [gallery](http://matplotlib.org/gallery.html) pages are a great resource for doing visualizations in Python.\n",
    "\n",
    "**NOTE:** It's recommended you start with something simple first. If you wish to do more, come back to it after you've completed the rest of the sections."
   ]
  },
  {
   "cell_type": "code",
   "execution_count": 26,
   "metadata": {
    "collapsed": false,
    "deletable": true,
    "editable": true
   },
   "outputs": [],
   "source": [
    "### Data exploration visualization code goes here.\n",
    "### Feel free to use as many code cells as needed.\n",
    "import matplotlib.pyplot as plt\n",
    "import numpy as np\n",
    "# Visualizations will be shown in the notebook.\n",
    "%matplotlib inline\n",
    "\n",
    "def show_images_of_np_array(image_id_array):\n",
    "    \"\"\" shows the images of the training set of the given ids with matplotlib.pyplot \"\"\"\n",
    "    \n",
    "    for i in range(0, image_id_array.size):\n",
    "        index_of_id, = np.where(image_id_array[i] == y_train)\n",
    "        image = X_train[index_of_id[-1]].squeeze()\n",
    "        plt.figure(i, figsize=(1,1))\n",
    "        plt.imshow(image)\n",
    "    plt.show()\n",
    "    return None"
   ]
  },
  {
   "cell_type": "code",
   "execution_count": 27,
   "metadata": {
    "collapsed": false,
    "deletable": true,
    "editable": true
   },
   "outputs": [
    {
     "data": {
      "image/png": "[encoded data removed]",
      "text/plain": [
       "<matplotlib.figure.Figure at 0x7faa48135fd0>"
      ]
     },
     "metadata": {},
     "output_type": "display_data"
    }
   ],
   "source": [
    "unique, counts = np.unique(y_train, return_counts=True)\n",
    "\n",
    "### bar chart\n",
    "plt.figure(figsize=(43,10))\n",
    "plt.title(\"Distribution of the traffic signs\")\n",
    "plt.ylabel(\"Count\")\n",
    "plt.xlabel(\"Sign id\")\n",
    "plt.bar(range(n_classes), counts, linewidth=2)\n",
    "plt.xticks(range(n_classes), unique)\n",
    "plt.show()"
   ]
  },
  {
   "cell_type": "code",
   "execution_count": 28,
   "metadata": {
    "collapsed": false,
    "deletable": true,
    "editable": true
   },
   "outputs": [
    {
     "data": {
      "image/png": "[encoded data removed]",
      "text/plain": [
       "<matplotlib.figure.Figure at 0x7faadd0de860>"
      ]
     },
     "metadata": {},
     "output_type": "display_data"
    },
    {
     "name": "stdout",
     "output_type": "stream",
     "text": [
      "The 5 signs with the highest occurrence in train set:\n"
     ]
    },
    {
     "data": {
      "image/png": "[encoded data removed]",
      "text/plain": [
       "<matplotlib.figure.Figure at 0x7fa9f52b3fd0>"
      ]
     },
     "metadata": {},
     "output_type": "display_data"
    },
    {
     "data": {
      "image/png": "[encoded data removed]",
      "text/plain": [
       "<matplotlib.figure.Figure at 0x7faa0defbac8>"
      ]
     },
     "metadata": {},
     "output_type": "display_data"
    },
    {
     "data": {
      "image/png": "[encoded data removed]",
      "text/plain": [
       "<matplotlib.figure.Figure at 0x7faa48180be0>"
      ]
     },
     "metadata": {},
     "output_type": "display_data"
    },
    {
     "data": {
      "image/png": "[encoded data removed]",
      "text/plain": [
       "<matplotlib.figure.Figure at 0x7faa0c8b5f28>"
      ]
     },
     "metadata": {},
     "output_type": "display_data"
    },
    {
     "data": {
      "image/png": "[encoded data removed]",
      "text/plain": [
       "<matplotlib.figure.Figure at 0x7faae884a240>"
      ]
     },
     "metadata": {},
     "output_type": "display_data"
    }
   ],
   "source": [
    "values = np.empty([5], dtype=int)\n",
    "values = np.argsort(counts)[-5:][::-1]\n",
    "count = np.empty([5], dtype=int)\n",
    "for idx,value in enumerate(values):\n",
    "    count[idx] = counts[value]\n",
    "plt.figure(figsize=(6,5))\n",
    "plt.title(\"The 5 signs with highest occurrence in train set\")\n",
    "plt.ylabel(\"Count\")\n",
    "plt.xlabel(\"Sign id\")\n",
    "plt.bar(np.arange(5), (int(count[0]),int(count[1]), int(count[2]), int(count[3]), int(count[4])), align='center')\n",
    "plt.xticks(np.arange(5), (int(values[0]),int(values[1]), int(values[2]), int(values[3]), int(values[4])))\n",
    "plt.show()\n",
    "\n",
    "print(\"The 5 signs with the highest occurrence in train set:\")\n",
    "show_images_of_np_array(values)"
   ]
  },
  {
   "cell_type": "code",
   "execution_count": 29,
   "metadata": {
    "collapsed": false,
    "deletable": true,
    "editable": true
   },
   "outputs": [
    {
     "data": {
      "image/png": "[encoded data removed]",
      "text/plain": [
       "<matplotlib.figure.Figure at 0x7faae87b3160>"
      ]
     },
     "metadata": {},
     "output_type": "display_data"
    },
    {
     "name": "stdout",
     "output_type": "stream",
     "text": [
      "The 5 signs with the lowest occurrence in train set:\n"
     ]
    },
    {
     "data": {
      "image/png": "[encoded data removed]",
      "text/plain": [
       "<matplotlib.figure.Figure at 0x7faae8727e10>"
      ]
     },
     "metadata": {},
     "output_type": "display_data"
    },
    {
     "data": {
      "image/png": "[encoded data removed]",
      "text/plain": [
       "<matplotlib.figure.Figure at 0x7faae8727cc0>"
      ]
     },
     "metadata": {},
     "output_type": "display_data"
    },
    {
     "data": {
      "image/png": "[encoded data removed]",
      "text/plain": [
       "<matplotlib.figure.Figure at 0x7faae86cd7b8>"
      ]
     },
     "metadata": {},
     "output_type": "display_data"
    },
    {
     "data": {
      "image/png": "[encoded data removed]",
      "text/plain": [
       "<matplotlib.figure.Figure at 0x7faae868fb00>"
      ]
     },
     "metadata": {},
     "output_type": "display_data"
    },
    {
     "data": {
      "image/png": "[encoded data removed]",
      "text/plain": [
       "<matplotlib.figure.Figure at 0x7faae85e2dd8>"
      ]
     },
     "metadata": {},
     "output_type": "display_data"
    }
   ],
   "source": [
    "values = np.empty([5], dtype=int)\n",
    "values = np.argsort(counts)[:5]\n",
    "count = np.empty([5], dtype=int)\n",
    "for idx,value in enumerate(values):\n",
    "    count[idx] = counts[value]\n",
    "plt.figure(figsize=(6,5))\n",
    "plt.title(\"The 5 signs with lowest occurrence in train set\")\n",
    "plt.ylabel(\"Count\")\n",
    "plt.xlabel(\"Sign id\")\n",
    "plt.bar(np.arange(5), (int(count[0]),int(count[1]), int(count[2]), int(count[3]), int(count[4])), align='center')\n",
    "plt.xticks(np.arange(5), (int(values[0]),int(values[1]), int(values[2]), int(values[3]), int(values[4])))\n",
    "plt.show()\n",
    "\n",
    "print(\"The 5 signs with the lowest occurrence in train set:\")\n",
    "show_images_of_np_array(values)"
   ]
  },
  {
   "cell_type": "markdown",
   "metadata": {
    "deletable": true,
    "editable": true
   },
   "source": [
    "----\n",
    "\n",
    "## Step 2: Design and Test a Model Architecture\n",
    "\n",
    "Design and implement a deep learning model that learns to recognize traffic signs. Train and test your model on the [German Traffic Sign Dataset](http://benchmark.ini.rub.de/?section=gtsrb&subsection=dataset).\n",
    "\n",
    "The LeNet-5 implementation shown in the [classroom](https://classroom.udacity.com/nanodegrees/nd013/parts/fbf77062-5703-404e-b60c-95b78b2f3f9e/modules/6df7ae49-c61c-4bb2-a23e-6527e69209ec/lessons/601ae704-1035-4287-8b11-e2c2716217ad/concepts/d4aca031-508f-4e0b-b493-e7b706120f81) at the end of the CNN lesson is a solid starting point. You'll have to change the number of classes and possibly the preprocessing, but aside from that it's plug and play! \n",
    "\n",
    "With the LeNet-5 solution from the lecture, you should expect a validation set accuracy of about 0.89. To meet specifications, the validation set accuracy will need to be at least 0.93. It is possible to get an even higher accuracy, but 0.93 is the minimum for a successful project submission. \n",
    "\n",
    "There are various aspects to consider when thinking about this problem:\n",
    "\n",
    "- Neural network architecture (is the network over or underfitting?)\n",
    "- Play around preprocessing techniques (normalization, rgb to grayscale, etc)\n",
    "- Number of examples per label (some have more than others).\n",
    "- Generate fake data.\n",
    "\n",
    "Here is an example of a [published baseline model on this problem](http://yann.lecun.com/exdb/publis/pdf/sermanet-ijcnn-11.pdf). It's not required to be familiar with the approach used in the paper but, it's good practice to try to read papers like these."
   ]
  },
  {
   "cell_type": "markdown",
   "metadata": {
    "deletable": true,
    "editable": true
   },
   "source": [
    "### Pre-process the Data Set (normalization, grayscale, etc.)"
   ]
  },
  {
   "cell_type": "markdown",
   "metadata": {
    "deletable": true,
    "editable": true
   },
   "source": [
    "Use the code cell (or multiple code cells, if necessary) to implement the first step of your project."
   ]
  },
  {
   "cell_type": "code",
   "execution_count": 30,
   "metadata": {
    "collapsed": true
   },
   "outputs": [],
   "source": [
    "import random\n",
    "\n",
    "def translation_for_training(normalized_image):\n",
    "    \"\"\"Translate an image up to 1/4 of the image shape\"\"\"\n",
    "    rows,cols,dim = normalized_image.shape\n",
    "    rows_translation_value = rows/4\n",
    "    rows_translation = random.randint(-rows_translation_value, rows_translation_value)\n",
    "    cols_translation_value = cols/4\n",
    "    cols_translation = random.randint(-cols_translation_value, cols_translation_value)\n",
    "    M = np.float32([[1,0,cols_translation],[0,1,rows_translation]])\n",
    "    dst = cv2.warpAffine(normalized_image,M,(cols,rows))\n",
    "    return dst\n",
    "\n",
    "def translate_images(x):\n",
    "    \"\"\"Translate a list of images up to 1/4 of the image shape\"\"\"\n",
    "    translated_image_set = []\n",
    "    for i in range(0, len(x)):\n",
    "        translated_image = translation_for_training(x[i])\n",
    "        translated_image_set.append(translated_image)\n",
    "    return translated_image_set"
   ]
  },
  {
   "cell_type": "code",
   "execution_count": 31,
   "metadata": {
    "collapsed": true
   },
   "outputs": [],
   "source": [
    "def rotateImage(normalized_image):\n",
    "    \"\"\"Rotates an image between -45° and 45° and returns the result.\"\"\"\n",
    "    cols, rows, dim = normalized_image.shape\n",
    "    image_center = tuple(np.array(normalized_image.shape)[:2]/2)\n",
    "    angle = random.randint(-45,45)\n",
    "    rot_mat = cv2.getRotationMatrix2D(image_center,angle,1)\n",
    "    transformed_image = cv2.warpAffine(normalized_image,rot_mat,(cols, rows))\n",
    "    return transformed_image\n",
    "\n",
    "def rotate_images(x):\n",
    "    \"\"\"Rotates a list of images with a random angle between -45° and 45° and returns the result.\"\"\"\n",
    "    rotated_image_set = []\n",
    "    for i in range(0, len(x)):\n",
    "        rotated_image = rotateImage(x[i])\n",
    "        rotated_image_set.append(rotated_image)\n",
    "    return rotated_image_set"
   ]
  },
  {
   "cell_type": "code",
   "execution_count": 32,
   "metadata": {
    "collapsed": false
   },
   "outputs": [
    {
     "name": "stdout",
     "output_type": "stream",
     "text": [
      "shape (32, 32, 3)\n"
     ]
    },
    {
     "data": {
      "image/png": "[encoded data removed]",
      "text/plain": [
       "<matplotlib.figure.Figure at 0x7faaff148780>"
      ]
     },
     "metadata": {},
     "output_type": "display_data"
    },
    {
     "data": {
      "image/png": "[encoded data removed]",
      "text/plain": [
       "<matplotlib.figure.Figure at 0x7faae84e21d0>"
      ]
     },
     "metadata": {},
     "output_type": "display_data"
    }
   ],
   "source": [
    "import cv2\n",
    "\n",
    "translated_images = translate_images(X_valid)\n",
    "plt.figure(0, figsize=(1,1))\n",
    "plt.imshow(translated_images[0])\n",
    "rotated_images = rotate_images(X_valid)\n",
    "print(\"shape {}\".format(rotated_images[0].shape))\n",
    "plt.figure(1, figsize=(1,1))\n",
    "plt.imshow(rotated_images[0].squeeze())\n",
    "plt.show()"
   ]
  },
  {
   "cell_type": "code",
   "execution_count": 33,
   "metadata": {
    "collapsed": false,
    "deletable": true,
    "editable": true
   },
   "outputs": [],
   "source": [
    "### Preprocess the data here. Preprocessing steps could include normalization, converting to grayscale, etc.\n",
    "### Feel free to use as many code cells as needed.\n",
    "\n",
    "### Greyscale and normalize input\n",
    "import numpy as np\n",
    "import cv2\n",
    "\n",
    "def greyscale_Image(image_to_greyscale):\n",
    "    \"\"\"Greyscales a given image.\"\"\"\n",
    "    return cv2.cvtColor(image_to_greyscale, cv2.COLOR_RGB2GRAY)\n",
    "    \n",
    "def normalize_greyscaled_Image(grayscaled_image):\n",
    "    \"\"\"Normalizes an greyscaled image between the values 0 and 255.\"\"\"\n",
    "    norm_image = np.zeros(shape=grayscaled_image.shape)\n",
    "    clahe = cv2.createCLAHE(tileGridSize=(2,2))\n",
    "    norm_image = clahe.apply(grayscaled_image)\n",
    "    return norm_image\n",
    "\n",
    "def add_missing_dimension(image):\n",
    "    return image[:, :, np.newaxis]\n",
    "\n",
    "def normalize_and_greyscale_image_set(x):\n",
    "    \"\"\"Normalizes and greyscales the given image set.\"\"\"\n",
    "    new_set = []\n",
    "    for i in range(0,len(x)):\n",
    "        grayscaledImage = greyscale_Image(x[i])\n",
    "        norm_image = normalize_greyscaled_Image(grayscaledImage)\n",
    "        corrected_dimension = add_missing_dimension(norm_image)\n",
    "        new_set.append(corrected_dimension)\n",
    "    return new_set"
   ]
  },
  {
   "cell_type": "code",
   "execution_count": 34,
   "metadata": {
    "collapsed": false,
    "deletable": true,
    "editable": true
   },
   "outputs": [
    {
     "name": "stdout",
     "output_type": "stream",
     "text": [
      "Image Shape: (32, 32, 3)\n",
      "Normalized validation set image shape: (32, 32, 1)\n"
     ]
    },
    {
     "data": {
      "image/png": "[encoded data removed]",
      "text/plain": [
       "<matplotlib.figure.Figure at 0x7faafc82c630>"
      ]
     },
     "metadata": {},
     "output_type": "display_data"
    }
   ],
   "source": [
    "print(\"Image Shape: {}\".format(X_valid[0].shape))\n",
    "X_normalized_valid = normalize_and_greyscale_image_set(X_valid)\n",
    "print(\"Normalized validation set image shape: {}\".format(X_normalized_valid[0].shape))\n",
    "plt.figure(0, figsize=(1,1))\n",
    "plt.imshow(X_normalized_valid[0].squeeze(), cmap='gray')\n",
    "plt.show()"
   ]
  },
  {
   "cell_type": "code",
   "execution_count": 35,
   "metadata": {
    "collapsed": true
   },
   "outputs": [],
   "source": [
    "def training_preprocessing(image_list):\n",
    "    \"\"\"Translates, rotates, greyscales and normalizes a set of images.\n",
    "    Returns the result\n",
    "    \"\"\"\n",
    "    translated_images = translate_images(image_list)\n",
    "    rotated_images = rotate_images(translated_images)\n",
    "    normalized_and_greyscaled_images = normalize_and_greyscale_image_set(rotated_images)\n",
    "    return normalized_and_greyscaled_images"
   ]
  },
  {
   "cell_type": "markdown",
   "metadata": {
    "deletable": true,
    "editable": true
   },
   "source": [
    "### Model Architecture"
   ]
  },
  {
   "cell_type": "code",
   "execution_count": 36,
   "metadata": {
    "collapsed": true,
    "deletable": true,
    "editable": true
   },
   "outputs": [],
   "source": [
    "### Define your architecture here.\n",
    "import tensorflow as tf\n",
    "from tensorflow.contrib.layers import flatten\n",
    "\n",
    "def traffic_sign_classifier(x):\n",
    "    # Arguments used for tf.truncated_normal, randomly defines variables for the weights and biases for each layer\n",
    "    mu      = 0\n",
    "    sigma   = 0.1\n",
    "    # dropout rate for tf.nn.dropout\n",
    "    dropout = 0.65\n",
    "    \n",
    "    # Layer 1: Convolutional. Input = 32x32x1. Output = 28x28x8.\n",
    "    wc1   = tf.Variable(tf.truncated_normal(shape=(5, 5, 1, 8), mean = mu, stddev = sigma))\n",
    "    b1    = tf.Variable(tf.truncated_normal([8]))\n",
    "    conv1 = tf.nn.conv2d(x, wc1, strides=[1, 1, 1, 1], padding='VALID') + b1\n",
    "\n",
    "    # Activation with relumfunction\n",
    "    active_conv1 = tf.nn.relu(conv1)\n",
    "    \n",
    "    # Pooling. Input = 28x28x8. Output = 14x14x8.\n",
    "    pooling1 = tf.nn.max_pool(active_conv1, ksize=[1, 2, 2, 1], strides=[1, 2, 2, 1], padding='VALID')\n",
    "\n",
    "    # Layer 2: Convolutional. Input = 14x14x8. Output = 12x12x26.\n",
    "    wc2   = tf.Variable(tf.truncated_normal(shape=(4, 4, 8, 26), mean = mu, stddev = sigma))\n",
    "    b2    = tf.Variable(tf.truncated_normal([26]))\n",
    "    conv2 = tf.nn.conv2d(pooling1, wc2, strides=[1, 1, 1, 1], padding='VALID') + b2\n",
    "    \n",
    "    # Activation with dropout function.\n",
    "    active_conv2 = tf.nn.dropout(conv2, dropout)\n",
    "    \n",
    "    # Pooling. Input = 10x10x26. Output = 6x6x26.\n",
    "    pooling2 = tf.nn.max_pool(active_conv2, ksize=[1, 2, 2, 1], strides=[1, 2, 2, 1], padding='VALID')\n",
    "\n",
    "    # Layer 3: Convolutional. Input = 6x6x26 Output = 4x4x48\n",
    "    wcn    = tf.Variable(tf.truncated_normal(shape=(2, 2, 26, 48), mean = mu, stddev = sigma))\n",
    "    bn     = tf.Variable(tf.truncated_normal([48]))\n",
    "    convn  = tf.nn.conv2d(pooling2, wcn, strides=[1, 1, 1, 1], padding='VALID') + bn\n",
    "    \n",
    "    # Activation with relu function\n",
    "    active_convn = tf.nn.relu(convn)\n",
    "    \n",
    "    #Flatten the convolutional layer. Input = 4x4x48. Output = 768\n",
    "    flatt_conv = flatten(active_convn)\n",
    "    \n",
    "    # Layer 4: Fully Connected. Input = 768. Output = 400.\n",
    "    fully_weightn = tf.Variable(tf.truncated_normal(shape=(768, 400), mean = mu, stddev = sigma))\n",
    "    fully_biasn   = tf.Variable(tf.zeros(400))\n",
    "    fully1n       = tf.matmul(flatt_conv, fully_weightn) + fully_biasn\n",
    "    \n",
    "    # Activation with relu function\n",
    "    active_l4 = tf.nn.dropout(fully1n, dropout)\n",
    "    \n",
    "    # Layer 5: Fully Connected. Input = 400. Output = 120.\n",
    "    fully_weight = tf.Variable(tf.truncated_normal(shape=(400, 120), mean = mu, stddev = sigma))\n",
    "    fully_bias   = tf.Variable(tf.zeros(120))\n",
    "    fully1       = tf.matmul(active_l4, fully_weight) + fully_bias\n",
    "    \n",
    "    # Activation with dropout function.\n",
    "    f_act = tf.nn.relu(fully1)\n",
    "\n",
    "    # Layer 6: Fully Connected. Input = 120. Output = 43.\n",
    "    fully_weight_2 = tf.Variable(tf.truncated_normal(shape=(120, 43), mean = mu, stddev = sigma))\n",
    "    fully_bias_2   = tf.Variable(tf.zeros(43))\n",
    "    logits         = tf.matmul(f_act, fully_weight_2) + fully_bias_2\n",
    "    \n",
    "    return logits"
   ]
  },
  {
   "cell_type": "markdown",
   "metadata": {
    "deletable": true,
    "editable": true
   },
   "source": [
    "### Train, Validate and Test the Model"
   ]
  },
  {
   "cell_type": "markdown",
   "metadata": {
    "deletable": true,
    "editable": true
   },
   "source": [
    "A validation set can be used to assess how well the model is performing. A low accuracy on the training and validation\n",
    "sets imply underfitting. A high accuracy on the training set but low accuracy on the validation set implies overfitting."
   ]
  },
  {
   "cell_type": "code",
   "execution_count": 37,
   "metadata": {
    "collapsed": false,
    "deletable": true,
    "editable": true
   },
   "outputs": [],
   "source": [
    "### Train your model here.\n",
    "### Calculate and report the accuracy on the training and validation set.\n",
    "### Once a final model architecture is selected, \n",
    "### the accuracy on the test set should be calculated and reported as well.\n",
    "### Feel free to use as many code cells as needed.\n",
    "\n",
    "x         = tf.placeholder(tf.float32, (None, 32, 32, 1))\n",
    "y         = tf.placeholder(tf.int32, (None))\n",
    "one_hot_y = tf.one_hot(y, 43)\n",
    "rate      = 0.0008\n",
    "\n",
    "logits = traffic_sign_classifier(x)\n",
    "cross_entropy = tf.nn.softmax_cross_entropy_with_logits(logits, one_hot_y)\n",
    "loss_operation = tf.reduce_mean(cross_entropy)\n",
    "optimizer = tf.train.AdamOptimizer(learning_rate = rate)\n",
    "training_operation = optimizer.minimize(loss_operation)"
   ]
  },
  {
   "cell_type": "code",
   "execution_count": 38,
   "metadata": {
    "collapsed": true,
    "deletable": true,
    "editable": true
   },
   "outputs": [],
   "source": [
    "correct_prediction = tf.equal(tf.argmax(logits, 1), tf.argmax(one_hot_y, 1))\n",
    "accuracy_operation = tf.reduce_mean(tf.cast(correct_prediction, tf.float32))\n",
    "saver = tf.train.Saver()\n",
    "\n",
    "def evaluate(X_data, y_data):\n",
    "    num_examples = len(X_data)\n",
    "    total_accuracy = 0\n",
    "    sess = tf.get_default_session()\n",
    "    for offset in range(0, num_examples, BATCH_SIZE):\n",
    "        batch_x, batch_y = X_data[offset:offset+BATCH_SIZE], y_data[offset:offset+BATCH_SIZE]\n",
    "        accuracy = sess.run(accuracy_operation, feed_dict={x: batch_x, y: batch_y})\n",
    "        total_accuracy += (accuracy * len(batch_x))\n",
    "    return total_accuracy / num_examples"
   ]
  },
  {
   "cell_type": "code",
   "execution_count": 39,
   "metadata": {
    "collapsed": true
   },
   "outputs": [],
   "source": [
    "from sklearn.model_selection import train_test_split\n",
    "\n",
    "### Combine all sets to have a bigger training set \n",
    "X_all_images = np.concatenate([X_train, X_valid, X_test])\n",
    "y_all_images = np.concatenate([y_train, y_valid, y_test])\n",
    "\n",
    "# Split the training set again to actual training data and validation data.\n",
    "X_splitted_train, X_splitted_test, y_splitted_train, y_splitted_test = train_test_split(X_all_images, y_all_images, test_size=0.2, stratify = y_all_images )"
   ]
  },
  {
   "cell_type": "code",
   "execution_count": null,
   "metadata": {
    "collapsed": false,
    "deletable": true,
    "editable": true,
    "scrolled": true
   },
   "outputs": [
    {
     "name": "stdout",
     "output_type": "stream",
     "text": [
      "Training...\n",
      "\n"
     ]
    }
   ],
   "source": [
    "from sklearn.model_selection import StratifiedShuffleSplit\n",
    "\n",
    "### Hyper parameters\n",
    "EPOCHS = 400\n",
    "BATCH_SIZE = 2048\n",
    "\n",
    "with tf.Session() as sess:\n",
    "    sess.run(tf.global_variables_initializer())\n",
    "    \n",
    "    print(\"Training...\")\n",
    "    print()\n",
    "    for i in range(EPOCHS):\n",
    "        sss = StratifiedShuffleSplit(n_splits=EPOCHS, test_size=0.01, random_state=0)\n",
    "        x_cross_valid = []\n",
    "        y_cross_valid = []\n",
    "        for train_index, valid_index in sss.split(X_splitted_train, y_splitted_train):\n",
    "            x_preprocessed_training_set = training_preprocessing(X_splitted_train[train_index])\n",
    "            y_training = y_splitted_train[train_index]\n",
    "            x_cross_valid.extend(training_preprocessing(X_splitted_train[valid_index]))\n",
    "            y_cross_valid.extend(y_splitted_train[valid_index].tolist())\n",
    "            \n",
    "            num_examples = len(x_preprocessed_training_set)\n",
    "            for offset in range(0, num_examples, BATCH_SIZE):\n",
    "                end = offset + BATCH_SIZE\n",
    "                x_batch = x_preprocessed_training_set[offset:end]\n",
    "                y_batch = y_training[offset:end]\n",
    "                sess.run(training_operation, feed_dict={x: x_batch, y: y_batch})\n",
    "        \n",
    "        validation_accuracy = evaluate(np.asarray(x_cross_valid), np.asarray(y_cross_valid))\n",
    "        print(\"EPOCH {} ...\".format(i+1))\n",
    "        print(\"Validation Accuracy = {:.3f}\".format(validation_accuracy))\n",
    "        print()\n",
    "        \n",
    "    saver.save(sess, './second_submission')\n",
    "    print(\"Model saved\")"
   ]
  },
  {
   "cell_type": "code",
   "execution_count": 23,
   "metadata": {
    "collapsed": true
   },
   "outputs": [],
   "source": [
    "#uncomment if you want to reset the graph\n",
    "#tf.reset_default_graph()"
   ]
  },
  {
   "cell_type": "code",
   "execution_count": 94,
   "metadata": {
    "collapsed": false,
    "deletable": true,
    "editable": true
   },
   "outputs": [
    {
     "name": "stdout",
     "output_type": "stream",
     "text": [
      "Test Accuracy = 0.027\n"
     ]
    }
   ],
   "source": [
    "### Evaluate the model with the test set\n",
    "with tf.Session() as sess:\n",
    "    saver.restore(sess, tf.train.latest_checkpoint('.'))\n",
    "    \n",
    "    X_normalized_splitted_test = normalize_and_greyscale_image_set(X_splitted_test)\n",
    "    test_accuracy = evaluate(X_normalized_splitted_test, y_splitted_test)\n",
    "    print(\"Test Accuracy = {:.3f}\".format(test_accuracy))"
   ]
  },
  {
   "cell_type": "markdown",
   "metadata": {
    "deletable": true,
    "editable": true
   },
   "source": [
    "---\n",
    "\n",
    "## Step 3: Test a Model on New Images\n",
    "\n",
    "To give yourself more insight into how your model is working, download at least five pictures of German traffic signs from the web and use your model to predict the traffic sign type.\n",
    "\n",
    "You may find `signnames.csv` useful as it contains mappings from the class id (integer) to the actual sign name."
   ]
  },
  {
   "cell_type": "markdown",
   "metadata": {
    "deletable": true,
    "editable": true
   },
   "source": [
    "### Load and Output the Images"
   ]
  },
  {
   "cell_type": "code",
   "execution_count": 61,
   "metadata": {
    "collapsed": false,
    "deletable": true,
    "editable": true
   },
   "outputs": [
    {
     "data": {
      "image/png": "[encoded data removed]",
      "text/plain": [
       "<matplotlib.figure.Figure at 0x7ff21f86e208>"
      ]
     },
     "metadata": {},
     "output_type": "display_data"
    },
    {
     "data": {
      "image/png": "[encoded data removed]",
      "text/plain": [
       "<matplotlib.figure.Figure at 0x7ff213d274a8>"
      ]
     },
     "metadata": {},
     "output_type": "display_data"
    },
    {
     "data": {
      "image/png": "[encoded data removed]",
      "text/plain": [
       "<matplotlib.figure.Figure at 0x7ff21393c160>"
      ]
     },
     "metadata": {},
     "output_type": "display_data"
    },
    {
     "data": {
      "image/png": "[encoded data removed]",
      "text/plain": [
       "<matplotlib.figure.Figure at 0x7ff2650a6cc0>"
      ]
     },
     "metadata": {},
     "output_type": "display_data"
    },
    {
     "data": {
      "image/png": "[encoded data removed]",
      "text/plain": [
       "<matplotlib.figure.Figure at 0x7ff2138caef0>"
      ]
     },
     "metadata": {},
     "output_type": "display_data"
    }
   ],
   "source": [
    "### Load the images and plot them here.\n",
    "### Feel free to use as many code cells as needed.\n",
    "from os import listdir\n",
    "import matplotlib.image as mpimg\n",
    "import re\n",
    "\n",
    "def loadImages(path):\n",
    "    \"\"\" return array of images \"\"\"\n",
    "\n",
    "    imagesList = listdir(path)\n",
    "    loadedImages = []\n",
    "    imageIds = []\n",
    "    for image in imagesList:\n",
    "        if not image.startswith('.'):\n",
    "            img = mpimg.imread('./new_images/'+image)\n",
    "            loadedImages.append(img)\n",
    "            imageIds.append(int(re.sub('[^0-9]', '', image)))\n",
    "    return {'images':loadedImages, 'ids': imageIds}\n",
    "\n",
    "def show_images_of_list(image_list):\n",
    "    \"\"\" shows the images given in a list\"\"\"\n",
    "    for i in range(0, len(image_list)):\n",
    "        image = image_list[i]\n",
    "        plt.figure(i, figsize=(1,1))\n",
    "        plt.imshow(image)\n",
    "    plt.show()\n",
    "    return None\n",
    "\n",
    "path = \"./new_images/\"\n",
    "imgs = loadImages(path)\n",
    "show_images_of_list(imgs[\"images\"])"
   ]
  },
  {
   "cell_type": "markdown",
   "metadata": {
    "deletable": true,
    "editable": true
   },
   "source": [
    "### Predict the Sign Type for Each Image"
   ]
  },
  {
   "cell_type": "code",
   "execution_count": 62,
   "metadata": {
    "collapsed": false,
    "deletable": true,
    "editable": true
   },
   "outputs": [
    {
     "data": {
      "image/png": "[encoded data removed]",
      "text/plain": [
       "<matplotlib.figure.Figure at 0x7ff26780fcc0>"
      ]
     },
     "metadata": {},
     "output_type": "display_data"
    },
    {
     "data": {
      "image/png": "[encoded data removed]",
      "text/plain": [
       "<matplotlib.figure.Figure at 0x7ff26533bcc0>"
      ]
     },
     "metadata": {},
     "output_type": "display_data"
    },
    {
     "data": {
      "image/png": "[encoded data removed]",
      "text/plain": [
       "<matplotlib.figure.Figure at 0x7ff265255198>"
      ]
     },
     "metadata": {},
     "output_type": "display_data"
    },
    {
     "data": {
      "image/png": "[encoded data removed]",
      "text/plain": [
       "<matplotlib.figure.Figure at 0x7ff266659cf8>"
      ]
     },
     "metadata": {},
     "output_type": "display_data"
    },
    {
     "data": {
      "image/png": "[encoded data removed]",
      "text/plain": [
       "<matplotlib.figure.Figure at 0x7ff266af40f0>"
      ]
     },
     "metadata": {},
     "output_type": "display_data"
    }
   ],
   "source": [
    "### Run the predictions here and use the model to output the prediction for each image.\n",
    "### Make sure to pre-process the images with the same pre-processing pipeline used earlier.\n",
    "### Feel free to use as many code cells as needed.\n",
    "\n",
    "def show_grayscaled_images_of_list(image_list):\n",
    "    \"\"\" shows images given in a list. Images will be converted to to be grayscale \"\"\"\n",
    "    for i in range(0,len(image_list)):\n",
    "        grayscaledImage = greyscale_Image(image_list[i])\n",
    "        norm_image = normalize_greyscaled_Image(grayscaledImage).squeeze()\n",
    "        plt.figure(i, figsize=(1,1))\n",
    "        plt.imshow(norm_image, cmap='gray')\n",
    "    plt.show()\n",
    "    return None\n",
    "\n",
    "\n",
    "\"\"\" show_grayscaled_images_of_list does not add an additional dimension, which is needed\n",
    "    for the NN. This is just for showing the grayscaled images.\n",
    "\"\"\"\n",
    "show_grayscaled_images_of_list(imgs['images'])"
   ]
  },
  {
   "cell_type": "code",
   "execution_count": 106,
   "metadata": {
    "collapsed": false,
    "deletable": true,
    "editable": true
   },
   "outputs": [
    {
     "name": "stdout",
     "output_type": "stream",
     "text": [
      "image ids: [13, 27, 17, 1, 2]\n",
      "classification: [13 10 23 37 38]\n"
     ]
    }
   ],
   "source": [
    "### Pipeline which was used to train the model\n",
    "image_ids = imgs['ids']\n",
    "print(\"image ids: {}\".format(image_ids))\n",
    "\n",
    "grayscaled_images = normalize_and_greyscale_image_set(imgs['images'])\n",
    "classification = np.empty([5], dtype=int)\n",
    "\n",
    "saver = tf.train.Saver()\n",
    "with tf.Session() as sess:\n",
    "    saver.restore(sess, './final_model')\n",
    "    sess = tf.get_default_session()\n",
    "    sess.run(tf.global_variables_initializer())\n",
    "    best_prediction = tf.argmax(tf.nn.softmax(logits), 1)\n",
    "    \n",
    "    classification = sess.run(best_prediction, feed_dict={x:grayscaled_images})\n",
    "    print(\"classification: {}\".format(classification))"
   ]
  },
  {
   "cell_type": "markdown",
   "metadata": {
    "deletable": true,
    "editable": true
   },
   "source": [
    "### Analyze Performance"
   ]
  },
  {
   "cell_type": "code",
   "execution_count": 108,
   "metadata": {
    "collapsed": false,
    "deletable": true,
    "editable": true
   },
   "outputs": [
    {
     "name": "stdout",
     "output_type": "stream",
     "text": [
      "Test accuracy according to manual tensorflow run = 0.200\n",
      "Test accuracy according to provided evaluate function = 0.600\n"
     ]
    }
   ],
   "source": [
    "### Calculate the accuracy for these 5 new images. \n",
    "### For example, if the model predicted 1 out of 5 signs correctly, it's 20% accurate on these new images.\n",
    "accurancy = 0.0\n",
    "for idx, ID in enumerate(image_ids):\n",
    "    if ID==classification[idx]:\n",
    "        accurancy += 0.2\n",
    "\n",
    "print(\"Test accuracy according to manual tensorflow run = {:.3f}\".format(accurancy))\n",
    "with tf.Session() as sess:\n",
    "    saver.restore(sess, tf.train.latest_checkpoint('.'))\n",
    "\n",
    "    test_accuracy = evaluate(grayscaled_images, image_ids)\n",
    "    print(\"Test accuracy according to provided evaluate function = {:.3f}\".format(test_accuracy))"
   ]
  },
  {
   "cell_type": "markdown",
   "metadata": {
    "deletable": true,
    "editable": true
   },
   "source": [
    "### Output Top 5 Softmax Probabilities For Each Image Found on the Web"
   ]
  },
  {
   "cell_type": "markdown",
   "metadata": {
    "deletable": true,
    "editable": true
   },
   "source": [
    "For each of the new images, print out the model's softmax probabilities to show the **certainty** of the model's predictions (limit the output to the top 5 probabilities for each image). [`tf.nn.top_k`](https://www.tensorflow.org/versions/r0.12/api_docs/python/nn.html#top_k) could prove helpful here. \n",
    "\n",
    "The example below demonstrates how tf.nn.top_k can be used to find the top k predictions for each image.\n",
    "\n",
    "`tf.nn.top_k` will return the values and indices (class ids) of the top k predictions. So if k=3, for each sign, it'll return the 3 largest probabilities (out of a possible 43) and the correspoding class ids.\n",
    "\n",
    "Take this numpy array as an example. The values in the array represent predictions. The array contains softmax probabilities for five candidate images with six possible classes. `tk.nn.top_k` is used to choose the three classes with the highest probability:\n",
    "\n",
    "```\n",
    "# (5, 6) array\n",
    "a = np.array([[ 0.24879643,  0.07032244,  0.12641572,  0.34763842,  0.07893497,\n",
    "         0.12789202],\n",
    "       [ 0.28086119,  0.27569815,  0.08594638,  0.0178669 ,  0.18063401,\n",
    "         0.15899337],\n",
    "       [ 0.26076848,  0.23664738,  0.08020603,  0.07001922,  0.1134371 ,\n",
    "         0.23892179],\n",
    "       [ 0.11943333,  0.29198961,  0.02605103,  0.26234032,  0.1351348 ,\n",
    "         0.16505091],\n",
    "       [ 0.09561176,  0.34396535,  0.0643941 ,  0.16240774,  0.24206137,\n",
    "         0.09155967]])\n",
    "```\n",
    "\n",
    "Running it through `sess.run(tf.nn.top_k(tf.constant(a), k=3))` produces:\n",
    "\n",
    "```\n",
    "TopKV2(values=array([[ 0.34763842,  0.24879643,  0.12789202],\n",
    "       [ 0.28086119,  0.27569815,  0.18063401],\n",
    "       [ 0.26076848,  0.23892179,  0.23664738],\n",
    "       [ 0.29198961,  0.26234032,  0.16505091],\n",
    "       [ 0.34396535,  0.24206137,  0.16240774]]), indices=array([[3, 0, 5],\n",
    "       [0, 1, 4],\n",
    "       [0, 5, 1],\n",
    "       [1, 3, 5],\n",
    "       [1, 4, 3]], dtype=int32))\n",
    "```\n",
    "\n",
    "Looking just at the first row we get `[ 0.34763842,  0.24879643,  0.12789202]`, you can confirm these are the 3 largest probabilities in `a`. You'll also notice `[3, 0, 5]` are the corresponding indices."
   ]
  },
  {
   "cell_type": "code",
   "execution_count": 115,
   "metadata": {
    "collapsed": false,
    "deletable": true,
    "editable": true
   },
   "outputs": [
    {
     "name": "stdout",
     "output_type": "stream",
     "text": [
      "TopKV2(values=array([[  1.00000000e+00,   1.01101343e-20,   3.56817591e-34,\n",
      "          0.00000000e+00,   0.00000000e+00],\n",
      "       [  9.99995470e-01,   4.05305718e-06,   4.56202457e-07,\n",
      "          4.15982943e-10,   1.58557386e-11],\n",
      "       [  9.79762375e-01,   2.02375874e-02,   2.85451117e-18,\n",
      "          1.68603546e-20,   2.22907908e-21],\n",
      "       [  6.28599942e-01,   1.51033193e-01,   8.54091197e-02,\n",
      "          7.46309683e-02,   5.08139022e-02],\n",
      "       [  9.99996066e-01,   2.19512344e-06,   1.78064124e-06,\n",
      "          1.80712192e-08,   1.04717490e-09]], dtype=float32), indices=array([[13, 35,  5,  0,  1],\n",
      "       [25, 35, 13, 12, 29],\n",
      "       [17, 12,  9, 38,  8],\n",
      "       [38,  2,  1,  3,  5],\n",
      "       [13,  1,  5,  3,  2]], dtype=int32))\n"
     ]
    }
   ],
   "source": [
    "### Print out the top five softmax probabilities for the predictions on the German traffic sign images found on the web. \n",
    "### Feel free to use as many code cells as needed.\n",
    "saver = tf.train.Saver()\n",
    "with tf.Session() as sess:\n",
    "    saver.restore(sess, './final_model')\n",
    "    sess = tf.get_default_session()\n",
    "    softmax = tf.nn.softmax(logits)\n",
    "    soft = sess.run(softmax, feed_dict={x:grayscaled_images})\n",
    "    top5 = sess.run(tf.nn.top_k(soft, k=5))\n",
    "    print(best5)"
   ]
  },
  {
   "cell_type": "markdown",
   "metadata": {
    "deletable": true,
    "editable": true
   },
   "source": [
    "---\n",
    "\n",
    "## Step 4: Visualize the Neural Network's State with Test Images\n",
    "\n",
    " This Section is not required to complete but acts as an additional excersise for understaning the output of a neural network's weights. While neural networks can be a great learning device they are often referred to as a black box. We can understand what the weights of a neural network look like better by plotting their feature maps. After successfully training your neural network you can see what it's feature maps look like by plotting the output of the network's weight layers in response to a test stimuli image. From these plotted feature maps, it's possible to see what characteristics of an image the network finds interesting. For a sign, maybe the inner network feature maps react with high activation to the sign's boundary outline or to the contrast in the sign's painted symbol.\n",
    "\n",
    " Provided for you below is the function code that allows you to get the visualization output of any tensorflow weight layer you want. The inputs to the function should be a stimuli image, one used during training or a new one you provided, and then the tensorflow variable name that represents the layer's state during the training process, for instance if you wanted to see what the [LeNet lab's](https://classroom.udacity.com/nanodegrees/nd013/parts/fbf77062-5703-404e-b60c-95b78b2f3f9e/modules/6df7ae49-c61c-4bb2-a23e-6527e69209ec/lessons/601ae704-1035-4287-8b11-e2c2716217ad/concepts/d4aca031-508f-4e0b-b493-e7b706120f81) feature maps looked like for it's second convolutional layer you could enter conv2 as the tf_activation variable.\n",
    "\n",
    "For an example of what feature map outputs look like, check out NVIDIA's results in their paper [End-to-End Deep Learning for Self-Driving Cars](https://devblogs.nvidia.com/parallelforall/deep-learning-self-driving-cars/) in the section Visualization of internal CNN State. NVIDIA was able to show that their network's inner weights had high activations to road boundary lines by comparing feature maps from an image with a clear path to one without. Try experimenting with a similar test to show that your trained network's weights are looking for interesting features, whether it's looking at differences in feature maps from images with or without a sign, or even what feature maps look like in a trained network vs a completely untrained one on the same sign image.\n",
    "\n",
    "<figure>\n",
    " <img src=\"visualize_cnn.png\" width=\"380\" alt=\"Combined Image\" />\n",
    " <figcaption>\n",
    " <p></p> \n",
    " <p style=\"text-align: center;\"> Your output should look something like this (above)</p> \n",
    " </figcaption>\n",
    "</figure>\n",
    " <p></p> \n"
   ]
  },
  {
   "cell_type": "code",
   "execution_count": 116,
   "metadata": {
    "collapsed": true,
    "deletable": true,
    "editable": true
   },
   "outputs": [],
   "source": [
    "### Visualize your network's feature maps here.\n",
    "### Feel free to use as many code cells as needed.\n",
    "\n",
    "# image_input: the test image being fed into the network to produce the feature maps\n",
    "# tf_activation: should be a tf variable name used during your training procedure that represents the calculated state of a specific weight layer\n",
    "# activation_min/max: can be used to view the activation contrast in more detail, by default matplot sets min and max to the actual min and max values of the output\n",
    "# plt_num: used to plot out multiple different weight feature map sets on the same block, just extend the plt number for each new feature map entry\n",
    "\n",
    "def outputFeatureMap(image_input, tf_activation, activation_min=-1, activation_max=-1 ,plt_num=1):\n",
    "    # Here make sure to preprocess your image_input in a way your network expects\n",
    "    # with size, normalization, ect if needed\n",
    "    # image_input =\n",
    "    # Note: x should be the same name as your network's tensorflow data placeholder variable\n",
    "    # If you get an error tf_activation is not defined it maybe having trouble accessing the variable from inside a function\n",
    "    activation = tf_activation.eval(session=sess,feed_dict={x : image_input})\n",
    "    featuremaps = activation.shape[3]\n",
    "    plt.figure(plt_num, figsize=(15,15))\n",
    "    for featuremap in range(featuremaps):\n",
    "        plt.subplot(6,8, featuremap+1) # sets the number of feature maps to show on each row and column\n",
    "        plt.title('FeatureMap ' + str(featuremap)) # displays the feature map number\n",
    "        if activation_min != -1 & activation_max != -1:\n",
    "            plt.imshow(activation[0,:,:, featuremap], interpolation=\"nearest\", vmin =activation_min, vmax=activation_max, cmap=\"gray\")\n",
    "        elif activation_max != -1:\n",
    "            plt.imshow(activation[0,:,:, featuremap], interpolation=\"nearest\", vmax=activation_max, cmap=\"gray\")\n",
    "        elif activation_min !=-1:\n",
    "            plt.imshow(activation[0,:,:, featuremap], interpolation=\"nearest\", vmin=activation_min, cmap=\"gray\")\n",
    "        else:\n",
    "            plt.imshow(activation[0,:,:, featuremap], interpolation=\"nearest\", cmap=\"gray\")"
   ]
  },
  {
   "cell_type": "code",
   "execution_count": 136,
   "metadata": {
    "collapsed": false,
    "deletable": true,
    "editable": true,
    "scrolled": true
   },
   "outputs": [],
   "source": [
    "### outputFeatureMap does not work with model :("
   ]
  },
  {
   "cell_type": "markdown",
   "metadata": {
    "deletable": true,
    "editable": true
   },
   "source": [
    "### Question 9\n",
    "\n",
    "Discuss how you used the visual output of your trained network's feature maps to show that it had learned to look for interesting characteristics in traffic sign images\n"
   ]
  },
  {
   "cell_type": "markdown",
   "metadata": {
    "deletable": true,
    "editable": true
   },
   "source": [
    "**Answer:**"
   ]
  },
  {
   "cell_type": "markdown",
   "metadata": {
    "deletable": true,
    "editable": true
   },
   "source": [
    "> **Note**: Once you have completed all of the code implementations and successfully answered each question above, you may finalize your work by exporting the iPython Notebook as an HTML document. You can do this by using the menu above and navigating to  \\n\",\n",
    "    \"**File -> Download as -> HTML (.html)**. Include the finished document along with this notebook as your submission."
   ]
  },
  {
   "cell_type": "markdown",
   "metadata": {
    "deletable": true,
    "editable": true
   },
   "source": [
    "### Project Writeup\n",
    "\n",
    "Once you have completed the code implementation, document your results in a project writeup using this [template](https://github.com/udacity/CarND-Traffic-Sign-Classifier-Project/blob/master/writeup_template.md) as a guide. The writeup can be in a markdown or pdf file. "
   ]
  }
 ],
 "metadata": {
  "anaconda-cloud": {},
  "kernelspec": {
   "display_name": "Python 3",
   "language": "python",
   "name": "python3"
  },
  "language_info": {
   "codemirror_mode": {
    "name": "ipython",
    "version": 3
   },
   "file_extension": ".py",
   "mimetype": "text/x-python",
   "name": "python",
   "nbconvert_exporter": "python",
   "pygments_lexer": "ipython3",
   "version": "3.5.2"
  },
  "widgets": {
   "state": {},
   "version": "1.1.2"
  }
 },
 "nbformat": 4,
 "nbformat_minor": 1
}
